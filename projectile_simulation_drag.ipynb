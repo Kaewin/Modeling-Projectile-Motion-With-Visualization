{
 "cells": [
  {
   "cell_type": "markdown",
   "metadata": {},
   "source": [
    "# Projectile Motion Simulation - Drag"
   ]
  },
  {
   "cell_type": "code",
   "execution_count": 1,
   "metadata": {},
   "outputs": [
    {
     "data": {
      "text/html": [
       "<div id=\"glowscript\" class=\"glowscript\"></div>"
      ],
      "text/plain": [
       "<IPython.core.display.HTML object>"
      ]
     },
     "metadata": {},
     "output_type": "display_data"
    },
    {
     "data": {
      "application/javascript": [
       "if (typeof Jupyter !== \"undefined\") { window.__context = { glowscript_container: $(\"#glowscript\").removeAttr(\"id\")};}else{ element.textContent = ' ';}"
      ],
      "text/plain": [
       "<IPython.core.display.Javascript object>"
      ]
     },
     "metadata": {},
     "output_type": "display_data"
    }
   ],
   "source": [
    "from vpython import *"
   ]
  },
  {
   "cell_type": "code",
   "execution_count": 2,
   "metadata": {},
   "outputs": [
    {
     "data": {
      "text/html": [
       "<div id=\"glowscript\" class=\"glowscript\"></div>"
      ],
      "text/plain": [
       "<IPython.core.display.HTML object>"
      ]
     },
     "metadata": {},
     "output_type": "display_data"
    },
    {
     "data": {
      "application/javascript": [
       "if (typeof Jupyter !== \"undefined\") { window.__context = { glowscript_container: $(\"#glowscript\").removeAttr(\"id\")};}else{ element.textContent = ' ';}"
      ],
      "text/plain": [
       "<IPython.core.display.Javascript object>"
      ]
     },
     "metadata": {},
     "output_type": "display_data"
    }
   ],
   "source": [
    "# Create a scene for showing the simulation.\n",
    "scene_action = canvas(title='Projectile Motion', width=1000, height=400,\n",
    "               center=vector(0,0,0), background=color.white, \n",
    "               align='left',autoscale=False)"
   ]
  },
  {
   "cell_type": "markdown",
   "metadata": {},
   "source": [
    "## Set up the scene"
   ]
  },
  {
   "cell_type": "code",
   "execution_count": 3,
   "metadata": {},
   "outputs": [],
   "source": [
    "scene_action.forward=vector(0,0,-1) #Set the direction along which you are viewing the scene.\n",
    "scene_action.up=vector(0,1,0) #Set the direction which is \"up\" relative to your computer screen.\n",
    "scene_action.range=17 #Set the horizontal extent of the scene that fits in the viewing window.\n",
    "scene_action.select() #Make the scene \"active\" so that things we draw are placed into this scene."
   ]
  },
  {
   "cell_type": "code",
   "execution_count": 4,
   "metadata": {},
   "outputs": [
    {
     "data": {
      "application/javascript": [
       "if (typeof Jupyter !== \"undefined\") {require.undef(\"nbextensions/vpython_libraries/glow.min\");}else{element.textContent = ' ';}"
      ],
      "text/plain": [
       "<IPython.core.display.Javascript object>"
      ]
     },
     "metadata": {},
     "output_type": "display_data"
    },
    {
     "data": {
      "application/javascript": [
       "if (typeof Jupyter !== \"undefined\") {require.undef(\"nbextensions/vpython_libraries/glowcomm\");}else{element.textContent = ' ';}"
      ],
      "text/plain": [
       "<IPython.core.display.Javascript object>"
      ]
     },
     "metadata": {},
     "output_type": "display_data"
    },
    {
     "data": {
      "application/javascript": [
       "if (typeof Jupyter !== \"undefined\") {require.undef(\"nbextensions/vpython_libraries/jquery-ui.custom.min\");}else{element.textContent = ' ';}"
      ],
      "text/plain": [
       "<IPython.core.display.Javascript object>"
      ]
     },
     "metadata": {},
     "output_type": "display_data"
    },
    {
     "data": {
      "application/javascript": [
       "if (typeof Jupyter !== \"undefined\") {require([\"nbextensions/vpython_libraries/glow.min\"], function(){console.log(\"GLOW LOADED\");});}else{element.textContent = ' ';}"
      ],
      "text/plain": [
       "<IPython.core.display.Javascript object>"
      ]
     },
     "metadata": {},
     "output_type": "display_data"
    },
    {
     "data": {
      "application/javascript": [
       "if (typeof Jupyter !== \"undefined\") {require([\"nbextensions/vpython_libraries/glowcomm\"], function(){console.log(\"GLOWCOMM LOADED\");});}else{element.textContent = ' ';}"
      ],
      "text/plain": [
       "<IPython.core.display.Javascript object>"
      ]
     },
     "metadata": {},
     "output_type": "display_data"
    },
    {
     "data": {
      "application/javascript": [
       "if (typeof Jupyter !== \"undefined\") {require([\"nbextensions/vpython_libraries/jquery-ui.custom.min\"], function(){console.log(\"JQUERY LOADED\");});}else{element.textContent = ' ';}"
      ],
      "text/plain": [
       "<IPython.core.display.Javascript object>"
      ]
     },
     "metadata": {},
     "output_type": "display_data"
    }
   ],
   "source": [
    "# draw projectile\n",
    "ball = sphere(pos=vector(0,0,0), radius=0.5, texture=textures.wood, make_trail=True)\n",
    "\n",
    "# draw and label coordinate axes\n",
    "xaxis = arrow(pos=vector(0,0,0), axis=vector(1,0,0), shaftwidth=0.1, color=color.red)\n",
    "yaxis = arrow(pos=vector(0,0,0), axis=vector(0,1,0), shaftwidth=0.1, color=color.blue)\n",
    "zaxis = arrow(pos=vector(0,0,0), axis=vector(0,0,1), shaftwidth=0.1, color=color.green)\n",
    "\n",
    "text(text='X', pos=vector(1,-0.25,0), height=0.5, color=color.red)\n",
    "text(text='Y', pos=vector(-0.2,1,-0.05), height=0.5, color=color.blue)\n",
    "text(text='Z', pos=vector(-0.1,-0.25,1), height=0.5, color=color.green)"
   ]
  },
  {
   "cell_type": "code",
   "execution_count": 5,
   "metadata": {},
   "outputs": [
    {
     "data": {
      "text/html": [
       "<div id=\"glowscript\" class=\"glowscript\"></div>"
      ],
      "text/plain": [
       "<IPython.core.display.HTML object>"
      ]
     },
     "metadata": {},
     "output_type": "display_data"
    },
    {
     "data": {
      "application/javascript": [
       "if (typeof Jupyter !== \"undefined\") { window.__context = { glowscript_container: $(\"#glowscript\").removeAttr(\"id\")};}else{ element.textContent = ' ';}"
      ],
      "text/plain": [
       "<IPython.core.display.Javascript object>"
      ]
     },
     "metadata": {},
     "output_type": "display_data"
    }
   ],
   "source": [
    "# scene for position plots.\n",
    "scene_plots = canvas(title='xyz Plots', width=300, height=500,\n",
    "               center=vector(0,0,0), background=color.white, \n",
    "               align='left')\n",
    "scene_plots.select() \n",
    "\n",
    "graph_pos = graph(width=300, height=300, xtitle='t', ytitle='x (red),y (blue),z (green)', align='left')\n",
    "plot_x = gcurve(color=color.red)\n",
    "plot_y = gcurve(color=color.blue)\n",
    "plot_z = gcurve(color=color.green)"
   ]
  },
  {
   "cell_type": "code",
   "execution_count": 6,
   "metadata": {},
   "outputs": [
    {
     "data": {
      "text/html": [
       "<div id=\"glowscript\" class=\"glowscript\"></div>"
      ],
      "text/plain": [
       "<IPython.core.display.HTML object>"
      ]
     },
     "metadata": {},
     "output_type": "display_data"
    },
    {
     "data": {
      "application/javascript": [
       "if (typeof Jupyter !== \"undefined\") { window.__context = { glowscript_container: $(\"#glowscript\").removeAttr(\"id\")};}else{ element.textContent = ' ';}"
      ],
      "text/plain": [
       "<IPython.core.display.Javascript object>"
      ]
     },
     "metadata": {},
     "output_type": "display_data"
    }
   ],
   "source": [
    "# scene for velocity plots.\n",
    "scene_vplots = canvas(title='V-Plots', width=300, height=500,\n",
    "               center=vector(0,0,0), background=color.white, \n",
    "               align='left')\n",
    "scene_vplots.select()\n",
    "\n",
    "graph_pos = graph(width=300, height=300, xtitle='t (s)', ytitle='Velocity (m/s)', align='left')\n",
    "plot_vx = gcurve(color=color.red)\n",
    "plot_vy = gcurve(color=color.blue)\n",
    "plot_vz = gcurve(color=color.green)"
   ]
  },
  {
   "cell_type": "code",
   "execution_count": 7,
   "metadata": {},
   "outputs": [
    {
     "data": {
      "text/html": [
       "<div id=\"glowscript\" class=\"glowscript\"></div>"
      ],
      "text/plain": [
       "<IPython.core.display.HTML object>"
      ]
     },
     "metadata": {},
     "output_type": "display_data"
    },
    {
     "data": {
      "application/javascript": [
       "if (typeof Jupyter !== \"undefined\") { window.__context = { glowscript_container: $(\"#glowscript\").removeAttr(\"id\")};}else{ element.textContent = ' ';}"
      ],
      "text/plain": [
       "<IPython.core.display.Javascript object>"
      ]
     },
     "metadata": {},
     "output_type": "display_data"
    }
   ],
   "source": [
    "# scene for energy plots.\n",
    "scene_Eplots = canvas(title='V-Plots', width=300, height=500,\n",
    "               center=vector(0,0,0), background=color.white, \n",
    "               align='left')\n",
    "scene_Eplots.select()\n",
    "\n",
    "graph_pos = graph(width=300, height=300, xtitle='t (s)', ytitle='Energy (j)', align='left')\n",
    "plot_T = gcurve(color=color.orange)\n",
    "plot_U = gcurve(color=color.yellow)\n",
    "plot_H = gcurve(color=color.red)"
   ]
  },
  {
   "cell_type": "code",
   "execution_count": 8,
   "metadata": {},
   "outputs": [],
   "source": [
    "scene_action.select() \n",
    "#This re-activates the simulation scene so that anything else will be drawn in it."
   ]
  },
  {
   "cell_type": "code",
   "execution_count": 9,
   "metadata": {},
   "outputs": [],
   "source": [
    "# Define physical constants.\n",
    "g = 9.81 # [m/s^2].\n",
    "theta_launch_deg = 35.0 # [deg].\n",
    "theta_launch = theta_launch_deg/360.0 * 2.0 * pi #Convert lanuch angle to [rad].\n",
    "v0_mag = 12 # [m/s].\n",
    "m = 1.0 # [kg]\n",
    "\n",
    "# Set initial values.\n",
    "t = 0 \n",
    "r0 = vector(0.0, 0.0, 0.0) \n",
    "v0 = vector(v0_mag*cos(theta_launch), v0_mag*sin(theta_launch), 0.0) \n",
    "\n",
    "# Set time step\n",
    "dt = 0.01 # [s].\n",
    "\n",
    "# Initialize\n",
    "r, v = r0, v0"
   ]
  },
  {
   "cell_type": "markdown",
   "metadata": {},
   "source": [
    "## Force Function"
   ]
  },
  {
   "cell_type": "code",
   "execution_count": 10,
   "metadata": {},
   "outputs": [],
   "source": [
    "def Fnet(v): # since we are calculating drag we need the velocity\n",
    "\n",
    "    Fdrag_mag = m*v.mag # [N].\n",
    "\n",
    "    vuv = v/v.mag #Calculate a unit vector in the direction of the velocity.\n",
    "    Fnetx = -vuv.x * Fdrag_mag \n",
    "    Fnety = -m*g - vuv.y * Fdrag_mag \n",
    "    Fnetz = -vuv.z * Fdrag_mag \n",
    "    \n",
    "    return vector(Fnetx, Fnety, Fnetz)"
   ]
  },
  {
   "cell_type": "markdown",
   "metadata": {},
   "source": [
    "## Numerical Loop"
   ]
  },
  {
   "cell_type": "code",
   "execution_count": 11,
   "metadata": {},
   "outputs": [
    {
     "name": "stdout",
     "output_type": "stream",
     "text": [
      "Time to ground: t =  0 s | y =  0.0 m | x =  0.0  m\n",
      "Time to ground: t =  0.01 s | y =  0.06715988063850428 m | x =  0.09731526286153223  m\n",
      "Max Height: t =  0.5200000000000002 s |  vy =  0.08833981363130182 m/s | y =  1.6254316483554396 m\n",
      "Max Height: t =  0.5300000000000002 s |  vy =  -0.010643584505011211 m/s | y =  1.6253252125103894 m\n",
      "Time to ground: t =  1.1400000000000008 s | y =  0.08750459074028502 m | x =  6.63700735288797  m\n",
      "Time to ground: t =  1.1500000000000008 s | y =  0.041955425471386434 m | x =  6.667952542220623  m\n",
      "Time to ground: t =  1.1600000000000008 s | y =  -0.004119248144823159 m | x =  6.6985882796599485  m\n",
      "Time to ground: t =  1.1700000000000008 s | y =  -0.05071417502487066 m | x =  6.728917659724881  m\n",
      "Time to ground: t =  1.1800000000000008 s | y =  -0.09782415263611768 m | x =  6.758943745989164  m\n"
     ]
    }
   ],
   "source": [
    "while r.y >= -0.1: # Stop the simulation when the projectile hits the ground.\n",
    "    ball.pos = r # update the position of the projectile with every iteration of the loop\n",
    "\n",
    "    # plots the position of the projectile as the time changes\n",
    "    plot_x.plot(pos=(t,r.x))\n",
    "    plot_y.plot(pos=(t,r.y))\n",
    "    plot_z.plot(pos=(t,r.z))\n",
    "    \n",
    "    # Plots the velocity of the projectile as the time changes.\n",
    "    plot_vx.plot(pos=(t,v.x)) \n",
    "    plot_vy.plot(pos=(t,v.y))\n",
    "    plot_vz.plot(pos=(t,v.z))\n",
    "    \n",
    "    T = (0.5)*m*v.mag**2\n",
    "    U = m*g*r.y\n",
    "    # Plots the energy of the projectile as the time changes.\n",
    "    plot_T.plot(pos=(t,T))\n",
    "    plot_U.plot(pos=(t,U))\n",
    "    plot_H.plot(pos=(t,U+T))\n",
    "\n",
    "    # Report information about projectile \n",
    "    if(v.y < 0.1 and v.y > -0.1):\n",
    "        print('Max Height: t = ',t,'s | ','vy = ', v.y ,'m/s | y = ', r.y ,'m')\n",
    "    if(r.y < 0.1 and r.y > -0.1):\n",
    "        print('Time to ground: t = ' , t , 's | y = ' , r.y , 'm | x = ', r.x ,' m')\n",
    "        \n",
    "    # Use Newton's 2nd Law to update the ball's position and velocity.\n",
    "    t = t + dt \n",
    "    f = Fnet(v)\n",
    "    a = f/m \n",
    "    v = v + a*dt \n",
    "    if v.mag > 24:\n",
    "        # This check is used to make sure the velocity does not exceed 24 m/s\n",
    "        # If it does, the power used must change from 1 to 2\n",
    "        print(\"velocity above 24 m/s\")\n",
    "    r = r + v*dt \n",
    " \n",
    "    sleep(dt)"
   ]
  }
 ],
 "metadata": {
  "kernelspec": {
   "display_name": "Python 3 (ipykernel)",
   "language": "python",
   "name": "python3"
  },
  "language_info": {
   "codemirror_mode": {
    "name": "ipython",
    "version": 3
   },
   "file_extension": ".py",
   "mimetype": "text/x-python",
   "name": "python",
   "nbconvert_exporter": "python",
   "pygments_lexer": "ipython3",
   "version": "3.9.16"
  }
 },
 "nbformat": 4,
 "nbformat_minor": 2
}
